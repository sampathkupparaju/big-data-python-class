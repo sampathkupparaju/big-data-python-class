{
 "cells": [
  {
   "cell_type": "code",
   "execution_count": 1,
   "metadata": {
    "collapsed": true
   },
   "outputs": [],
   "source": [
    "import os\n",
    "os.chdir('/Users/sampathkumar/Desktop/general-practice-prescribing-data')"
   ]
  },
  {
   "cell_type": "code",
   "execution_count": 2,
   "metadata": {
    "collapsed": true
   },
   "outputs": [],
   "source": [
    "import csv\n",
    "\n",
    "with open('hope.csv') as f:\n",
    "    # look, a builtin to read csv file lines as dictionaries!\n",
    "    reader = csv.DictReader(f)\n",
    "\n",
    "    # build a mapping of id to field3\n",
    "    id_to_field3 = {row['index']: row['bnf_code'] for row in reader}\n",
    "\n",
    "# you can put more than one open inside a with statement\n",
    "with open('T201702PDPI+BNFT.csv') as f, open('febresult.csv', 'w') as fo:\n",
    "    # csv even has a class to write files!\n",
    "    reader = csv.DictReader(f)\n",
    "    res = csv.DictWriter(fo, fieldnames=reader.fieldnames + ['original_bnf_code'])\n",
    "\n",
    "    res.writeheader()\n",
    "    for row in reader:\n",
    "        # .get returns its second argument if there was no match\n",
    "        row['original_bnf_code'] = id_to_field3.get(row['bnf_code'], '')\n",
    "        res.writerow(row)"
   ]
  },
  {
   "cell_type": "code",
   "execution_count": 9,
   "metadata": {},
   "outputs": [
    {
     "data": {
      "text/html": [
       "<div>\n",
       "<style>\n",
       "    .dataframe thead tr:only-child th {\n",
       "        text-align: right;\n",
       "    }\n",
       "\n",
       "    .dataframe thead th {\n",
       "        text-align: left;\n",
       "    }\n",
       "\n",
       "    .dataframe tbody tr th {\n",
       "        vertical-align: top;\n",
       "    }\n",
       "</style>\n",
       "<table border=\"1\" class=\"dataframe\">\n",
       "  <thead>\n",
       "    <tr style=\"text-align: right;\">\n",
       "      <th></th>\n",
       "      <th>bnf_code</th>\n",
       "      <th>quantity</th>\n",
       "    </tr>\n",
       "  </thead>\n",
       "  <tbody>\n",
       "    <tr>\n",
       "      <th>0</th>\n",
       "      <td>1</td>\n",
       "      <td>946</td>\n",
       "    </tr>\n",
       "    <tr>\n",
       "      <th>1</th>\n",
       "      <td>4</td>\n",
       "      <td>212835</td>\n",
       "    </tr>\n",
       "    <tr>\n",
       "      <th>2</th>\n",
       "      <td>7</td>\n",
       "      <td>9250</td>\n",
       "    </tr>\n",
       "    <tr>\n",
       "      <th>3</th>\n",
       "      <td>8</td>\n",
       "      <td>13</td>\n",
       "    </tr>\n",
       "    <tr>\n",
       "      <th>4</th>\n",
       "      <td>9</td>\n",
       "      <td>13500</td>\n",
       "    </tr>\n",
       "  </tbody>\n",
       "</table>\n",
       "</div>"
      ],
      "text/plain": [
       "   bnf_code  quantity\n",
       "0         1       946\n",
       "1         4    212835\n",
       "2         7      9250\n",
       "3         8        13\n",
       "4         9     13500"
      ]
     },
     "execution_count": 9,
     "metadata": {},
     "output_type": "execute_result"
    }
   ],
   "source": [
    "import pandas as pd\n",
    "febresultdf= pd.read_csv('febresult.csv')\n",
    "#mayresultdf = mayresultdf.drop([(mayresultdf[mayresultdf.bnf_code] >=20010000101) & (mayresultdf[mayresultdf.bnf_code] <=23965909627)].index)\n",
    "r1 = febresultdf.groupby('bnf_code')['quantity'].sum().reset_index()\n",
    "r1.columns=['bnf_code', 'quantity']\n",
    "r1.head()"
   ]
  },
  {
   "cell_type": "code",
   "execution_count": 4,
   "metadata": {
    "collapsed": true
   },
   "outputs": [],
   "source": [
    "r1.to_csv('req10.csv', encoding='utf-8')"
   ]
  },
  {
   "cell_type": "code",
   "execution_count": 5,
   "metadata": {
    "collapsed": true
   },
   "outputs": [],
   "source": [
    "import csv\n",
    "\n",
    "with open('hope.csv') as f:\n",
    "    # look, a builtin to read csv file lines as dictionaries!\n",
    "    reader = csv.DictReader(f)\n",
    "\n",
    "    # build a mapping of id to field3\n",
    "    id_to_field3 = {row['index']: row['bnf_code'] for row in reader}\n",
    "\n",
    "# you can put more than one open inside a with statement\n",
    "with open('req10.csv') as f, open('feb1.csv', 'w') as fo:\n",
    "    # csv even has a class to write files!\n",
    "    reader = csv.DictReader(f)\n",
    "    res = csv.DictWriter(fo, fieldnames=reader.fieldnames + ['original_bnf_code'])\n",
    "\n",
    "    res.writeheader()\n",
    "    for row in reader:\n",
    "        # .get returns its second argument if there was no match\n",
    "        row['original_bnf_code'] = id_to_field3.get(row['bnf_code'], '')\n",
    "        res.writerow(row)\n",
    "        "
   ]
  },
  {
   "cell_type": "code",
   "execution_count": 10,
   "metadata": {},
   "outputs": [
    {
     "data": {
      "text/html": [
       "<div>\n",
       "<style>\n",
       "    .dataframe thead tr:only-child th {\n",
       "        text-align: right;\n",
       "    }\n",
       "\n",
       "    .dataframe thead th {\n",
       "        text-align: left;\n",
       "    }\n",
       "\n",
       "    .dataframe tbody tr th {\n",
       "        vertical-align: top;\n",
       "    }\n",
       "</style>\n",
       "<table border=\"1\" class=\"dataframe\">\n",
       "  <thead>\n",
       "    <tr style=\"text-align: right;\">\n",
       "      <th></th>\n",
       "      <th>Unnamed: 0</th>\n",
       "      <th>bnf_code</th>\n",
       "      <th>quantity</th>\n",
       "      <th>original_bnf_code</th>\n",
       "      <th>stripped_bnf_code</th>\n",
       "    </tr>\n",
       "  </thead>\n",
       "  <tbody>\n",
       "    <tr>\n",
       "      <th>0</th>\n",
       "      <td>3088</td>\n",
       "      <td>3972</td>\n",
       "      <td>17784</td>\n",
       "      <td>0101010C0AAAAAA</td>\n",
       "      <td>0101</td>\n",
       "    </tr>\n",
       "    <tr>\n",
       "      <th>1</th>\n",
       "      <td>109</td>\n",
       "      <td>146</td>\n",
       "      <td>27146</td>\n",
       "      <td>0101010C0BBAAAA</td>\n",
       "      <td>0101</td>\n",
       "    </tr>\n",
       "    <tr>\n",
       "      <th>2</th>\n",
       "      <td>16730</td>\n",
       "      <td>21603</td>\n",
       "      <td>3070</td>\n",
       "      <td>0101010F0AAAUAU</td>\n",
       "      <td>0101</td>\n",
       "    </tr>\n",
       "    <tr>\n",
       "      <th>3</th>\n",
       "      <td>2794</td>\n",
       "      <td>3580</td>\n",
       "      <td>120</td>\n",
       "      <td>0101010F0BCAAAU</td>\n",
       "      <td>0101</td>\n",
       "    </tr>\n",
       "    <tr>\n",
       "      <th>4</th>\n",
       "      <td>1577</td>\n",
       "      <td>2032</td>\n",
       "      <td>1328950</td>\n",
       "      <td>0101010G0AAABAB</td>\n",
       "      <td>0101</td>\n",
       "    </tr>\n",
       "  </tbody>\n",
       "</table>\n",
       "</div>"
      ],
      "text/plain": [
       "   Unnamed: 0  bnf_code  quantity original_bnf_code stripped_bnf_code\n",
       "0        3088      3972     17784   0101010C0AAAAAA              0101\n",
       "1         109       146     27146   0101010C0BBAAAA              0101\n",
       "2       16730     21603      3070   0101010F0AAAUAU              0101\n",
       "3        2794      3580       120   0101010F0BCAAAU              0101\n",
       "4        1577      2032   1328950   0101010G0AAABAB              0101"
      ]
     },
     "execution_count": 10,
     "metadata": {},
     "output_type": "execute_result"
    }
   ],
   "source": [
    "feb2 = pd.read_csv('feb1.csv',converters={'stripped_bnf_code': lambda x: str(x)})\n",
    "feb2.head()"
   ]
  },
  {
   "cell_type": "code",
   "execution_count": 11,
   "metadata": {},
   "outputs": [
    {
     "data": {
      "text/html": [
       "<div>\n",
       "<style>\n",
       "    .dataframe thead tr:only-child th {\n",
       "        text-align: right;\n",
       "    }\n",
       "\n",
       "    .dataframe thead th {\n",
       "        text-align: left;\n",
       "    }\n",
       "\n",
       "    .dataframe tbody tr th {\n",
       "        vertical-align: top;\n",
       "    }\n",
       "</style>\n",
       "<table border=\"1\" class=\"dataframe\">\n",
       "  <thead>\n",
       "    <tr style=\"text-align: right;\">\n",
       "      <th></th>\n",
       "      <th>Unnamed: 0</th>\n",
       "      <th>stripped_bnf_code</th>\n",
       "      <th>quantity</th>\n",
       "    </tr>\n",
       "  </thead>\n",
       "  <tbody>\n",
       "    <tr>\n",
       "      <th>0</th>\n",
       "      <td>0</td>\n",
       "      <td>0101</td>\n",
       "      <td>170535224</td>\n",
       "    </tr>\n",
       "    <tr>\n",
       "      <th>1</th>\n",
       "      <td>1</td>\n",
       "      <td>0102</td>\n",
       "      <td>30069351</td>\n",
       "    </tr>\n",
       "    <tr>\n",
       "      <th>2</th>\n",
       "      <td>2</td>\n",
       "      <td>0103</td>\n",
       "      <td>187468317</td>\n",
       "    </tr>\n",
       "    <tr>\n",
       "      <th>3</th>\n",
       "      <td>3</td>\n",
       "      <td>0104</td>\n",
       "      <td>11276356</td>\n",
       "    </tr>\n",
       "    <tr>\n",
       "      <th>4</th>\n",
       "      <td>4</td>\n",
       "      <td>0105</td>\n",
       "      <td>23747241</td>\n",
       "    </tr>\n",
       "  </tbody>\n",
       "</table>\n",
       "</div>"
      ],
      "text/plain": [
       "   Unnamed: 0 stripped_bnf_code   quantity\n",
       "0           0              0101  170535224\n",
       "1           1              0102   30069351\n",
       "2           2              0103  187468317\n",
       "3           3              0104   11276356\n",
       "4           4              0105   23747241"
      ]
     },
     "execution_count": 11,
     "metadata": {},
     "output_type": "execute_result"
    }
   ],
   "source": [
    "m1 = feb2.groupby('stripped_bnf_code')['quantity'].sum().reset_index()\n",
    "m1.columns=['stripped_bnf_code', 'quantity']\n",
    "m1.to_csv('feb_final.csv', encoding='utf-8' )\n",
    "m2 =  pd.read_csv('feb_final.csv',converters={'stripped_bnf_code': lambda x: str(x)})\n",
    "m2.head()"
   ]
  }
 ],
 "metadata": {
  "kernelspec": {
   "display_name": "Python 3",
   "language": "python",
   "name": "python3"
  },
  "language_info": {
   "codemirror_mode": {
    "name": "ipython",
    "version": 3
   },
   "file_extension": ".py",
   "mimetype": "text/x-python",
   "name": "python",
   "nbconvert_exporter": "python",
   "pygments_lexer": "ipython3",
   "version": "3.6.1"
  }
 },
 "nbformat": 4,
 "nbformat_minor": 2
}
